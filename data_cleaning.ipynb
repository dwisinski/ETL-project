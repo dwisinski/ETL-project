{
 "cells": [
  {
   "cell_type": "code",
   "execution_count": 1,
   "metadata": {},
   "outputs": [],
   "source": [
    "import pandas as pd\n",
    "import numpy as np\n",
    "from datetime import datetime"
   ]
  },
  {
   "cell_type": "markdown",
   "metadata": {},
   "source": [
    "## Netflix"
   ]
  },
  {
   "cell_type": "code",
   "execution_count": 2,
   "metadata": {},
   "outputs": [],
   "source": [
    "csv_file = \"netflix.csv\"\n",
    "netflix_df = pd.read_csv(csv_file)\n",
    "# netflix_df.info()\n",
    "# netflix_df.columns.tolist()"
   ]
  },
  {
   "cell_type": "code",
   "execution_count": 3,
   "metadata": {},
   "outputs": [],
   "source": [
    "netflix_df = netflix_df.loc[(netflix_df[\"Series or Movie\"] == \"Movie\") & netflix_df[\"Country Availability\"].str.contains(\"United States\", na=False)]"
   ]
  },
  {
   "cell_type": "code",
   "execution_count": 4,
   "metadata": {},
   "outputs": [],
   "source": [
    "netflix_df[\"Release Year\"] = pd.to_datetime(netflix_df[\"Release Date\"], format=\"%d %b %Y\").dt.year.fillna(0).astype(int)"
   ]
  },
  {
   "cell_type": "code",
   "execution_count": 5,
   "metadata": {},
   "outputs": [],
   "source": [
    "netflix_df[\"Genre\"] = netflix_df[\"Genre\"].str.split(\",\").str[0]"
   ]
  },
  {
   "cell_type": "code",
   "execution_count": 6,
   "metadata": {},
   "outputs": [],
   "source": [
    "netflix_movies = netflix_df[[\"Title\", \"Release Year\", \"Genre\"]].sort_values(by=[\"Title\"]).reset_index(drop=True).fillna(\"None\")\n",
    "netflix_movies[\"Source\"] = \"Netflix\""
   ]
  },
  {
   "cell_type": "code",
   "execution_count": 7,
   "metadata": {},
   "outputs": [],
   "source": [
    "netflix_ratings = netflix_df[[\"Title\", \"IMDb Score\", \"Rotten Tomatoes Score\", \"Metacritic Score\"]].sort_values(by=[\"Title\"]).reset_index(drop=True).fillna(\"None\")\n",
    "netflix_ratings.columns = netflix_ratings.columns.str.replace(\"Score\", \"Rating\")"
   ]
  },
  {
   "cell_type": "code",
   "execution_count": 8,
   "metadata": {},
   "outputs": [],
   "source": [
    "# netflix_movies.to_csv(\"output_data/netflix_movies.csv\", index_label=\"Movie_ID\", encoding=\"utf-8-sig\")"
   ]
  },
  {
   "cell_type": "markdown",
   "metadata": {},
   "source": [
    "## Prime Video"
   ]
  },
  {
   "cell_type": "code",
   "execution_count": 9,
   "metadata": {},
   "outputs": [],
   "source": [
    "csv_file = \"prime_video.csv\"\n",
    "prime_video_df = pd.read_csv(csv_file)\n",
    "# prime_video_df.info()\n",
    "# prime_video_df.columns.tolist()"
   ]
  },
  {
   "cell_type": "code",
   "execution_count": 10,
   "metadata": {},
   "outputs": [],
   "source": [
    "prime_video_df = prime_video_df.loc[(prime_video_df[\"Language\"] == \"English\")]"
   ]
  },
  {
   "cell_type": "code",
   "execution_count": 11,
   "metadata": {},
   "outputs": [],
   "source": [
    "prime_video_movies = prime_video_df[[\"Movie Name\", \"Year of Release\"]].sort_values(by=[\"Movie Name\"]).reset_index(drop=True)\n",
    "prime_video_movies[\"Year of Release\"] = prime_video_movies[\"Year of Release\"].str.replace(\"None\", \"0\").astype(int)\n",
    "prime_video_movies[\"Source\"] = \"Prime Video\"\n",
    "prime_video_movies.rename(columns={\"Movie Name\": \"Title\", \"Year of Release\": \"Release Year\"}, inplace=True)"
   ]
  },
  {
   "cell_type": "code",
   "execution_count": 12,
   "metadata": {},
   "outputs": [],
   "source": [
    "prime_video_ratings = prime_video_df[[\"Movie Name\", \"IMDb Rating\"]].sort_values(by=[\"Movie Name\"]).reset_index(drop=True)\n",
    "prime_video_ratings.rename(columns={\"Movie Name\": \"Title\"}, inplace=True)"
   ]
  },
  {
   "cell_type": "markdown",
   "metadata": {},
   "source": [
    "## IMDb"
   ]
  },
  {
   "cell_type": "code",
   "execution_count": 13,
   "metadata": {},
   "outputs": [],
   "source": [
    "csv_file = \"imdb.csv\"\n",
    "imdb_df = pd.read_csv(csv_file, dtype={\"year\": str})"
   ]
  },
  {
   "cell_type": "code",
   "execution_count": 14,
   "metadata": {},
   "outputs": [],
   "source": [
    "imdb_df = imdb_df[imdb_df[\"year\"].str.len() == 4].reset_index(drop=True)"
   ]
  },
  {
   "cell_type": "code",
   "execution_count": 15,
   "metadata": {},
   "outputs": [],
   "source": [
    "imdb_df[\"Release Year\"] =  imdb_df[\"year\"].astype(int)"
   ]
  },
  {
   "cell_type": "code",
   "execution_count": 16,
   "metadata": {},
   "outputs": [],
   "source": [
    "imdb_df = imdb_df.loc[imdb_df[\"country\"].str.contains(\"USA\", na=False)]"
   ]
  },
  {
   "cell_type": "code",
   "execution_count": 17,
   "metadata": {},
   "outputs": [],
   "source": [
    "imdb_df[\"Genre\"] = imdb_df[\"genre\"].str.split(\",\").str[0]"
   ]
  },
  {
   "cell_type": "code",
   "execution_count": 18,
   "metadata": {},
   "outputs": [],
   "source": [
    "imdb_movies = imdb_df[[\"original_title\", \"Release Year\", \"Genre\", \"duration\"]].sort_values(by=[\"original_title\"]).reset_index(drop=True)\n",
    "imdb_movies.rename(columns={\"original_title\": \"Title\", \"duration\": \"Duration\"}, inplace=True)"
   ]
  },
  {
   "cell_type": "code",
   "execution_count": 19,
   "metadata": {},
   "outputs": [],
   "source": [
    "imdb_ratings = imdb_df[[\"original_title\", \"avg_vote\"]].sort_values(by=[\"original_title\"]).reset_index(drop=True)\n",
    "imdb_ratings.rename(columns={\"original_title\": \"Title\", \"avg_vote\": \"IMDb Rating\"}, inplace=True)"
   ]
  },
  {
   "cell_type": "markdown",
   "metadata": {},
   "source": [
    "## Rotten Tomatoes"
   ]
  },
  {
   "cell_type": "code",
   "execution_count": 20,
   "metadata": {},
   "outputs": [],
   "source": [
    "csv_file = \"rotten_tomatoes.csv\"\n",
    "tomatoes_df = pd.read_csv(csv_file)"
   ]
  },
  {
   "cell_type": "code",
   "execution_count": 21,
   "metadata": {},
   "outputs": [],
   "source": [
    "tomatoes_df[\"Release Year\"] = pd.to_datetime(tomatoes_df[\"original_release_date\"], format=\"%Y-%m-%d\").dt.year.fillna(0).astype(int)"
   ]
  },
  {
   "cell_type": "code",
   "execution_count": 22,
   "metadata": {},
   "outputs": [],
   "source": [
    "tomatoes_df[\"Genre\"] = tomatoes_df[\"genres\"].str.split(\",\").str[0].str.split(\" &\").str[0]\n",
    "tomatoes_movies = tomatoes_df[[\"movie_title\", \"Release Year\", \"Genre\", \"runtime\"]].sort_values(by=[\"movie_title\"]).reset_index(drop=True).fillna(\"None\")\n",
    "tomatoes_movies[\"Genre\"] = tomatoes_movies[\"Genre\"].str.replace(\"Science Fiction\", \"Sci-Fi\")\n",
    "tomatoes_movies.rename(columns={\"movie_title\": \"Title\", \"runtime\": \"Duration\"}, inplace=True)"
   ]
  },
  {
   "cell_type": "code",
   "execution_count": 23,
   "metadata": {},
   "outputs": [],
   "source": [
    "tomatoes_ratings = tomatoes_df[[\"movie_title\", \"tomatometer_rating\", \"audience_rating\"]].sort_values(by=[\"movie_title\"]).reset_index(drop=True)\n",
    "tomatoes_ratings.rename(columns={\"movie_title\": \"Title\", \"tomatometer_rating\": \"RT Critic Rating\", \"audience_rating\": \"RT Audience Rating\"}, inplace=True)\n",
    "tomatoes_ratings[\"RT Critic Rating\"] = tomatoes_ratings[\"RT Critic Rating\"].fillna(0).astype(int)\n",
    "tomatoes_ratings[\"RT Audience Rating\"] = tomatoes_ratings[\"RT Audience Rating\"].fillna(0).astype(int)"
   ]
  },
  {
   "cell_type": "code",
   "execution_count": 24,
   "metadata": {},
   "outputs": [
    {
     "data": {
      "text/plain": [
       "array(['Action', 'Adult', 'Adventure', 'Animation', 'Biography', 'Comedy',\n",
       "       'Crime', 'Documentary', 'Drama', 'Family', 'Fantasy', 'Film-Noir',\n",
       "       'History', 'Horror', 'Music', 'Musical', 'Mystery', 'Romance',\n",
       "       'Sci-Fi', 'Sport', 'Thriller', 'War', 'Western'], dtype=object)"
      ]
     },
     "execution_count": 24,
     "metadata": {},
     "output_type": "execute_result"
    }
   ],
   "source": [
    "imdb_genres = np.sort(imdb_movies[\"Genre\"].unique())\n",
    "imdb_genres"
   ]
  },
  {
   "cell_type": "code",
   "execution_count": 25,
   "metadata": {},
   "outputs": [
    {
     "data": {
      "text/plain": [
       "array(['Action', 'Adult', 'Adventure', 'Animation', 'Biography', 'Comedy',\n",
       "       'Crime', 'Documentary', 'Drama', 'Family', 'Fantasy', 'Film-Noir',\n",
       "       'History', 'Horror', 'Music', 'Musical', 'Mystery', 'None',\n",
       "       'Reality-TV', 'Romance', 'Sci-Fi', 'Short', 'Sport', 'Thriller',\n",
       "       'Western'], dtype=object)"
      ]
     },
     "execution_count": 25,
     "metadata": {},
     "output_type": "execute_result"
    }
   ],
   "source": [
    "netflix_genres = np.sort(netflix_movies[\"Genre\"].unique())\n",
    "netflix_genres"
   ]
  },
  {
   "cell_type": "code",
   "execution_count": 26,
   "metadata": {},
   "outputs": [
    {
     "data": {
      "text/plain": [
       "array(['Action', 'Animation', 'Art House', 'Classics', 'Comedy',\n",
       "       'Cult Movies', 'Documentary', 'Drama', 'Horror', 'Kids', 'Musical',\n",
       "       'Mystery', 'None', 'Romance', 'Sci-Fi', 'Special Interest',\n",
       "       'Television', 'Western'], dtype=object)"
      ]
     },
     "execution_count": 26,
     "metadata": {},
     "output_type": "execute_result"
    }
   ],
   "source": [
    "tomatoes_genres = np.sort(tomatoes_movies[\"Genre\"].unique())\n",
    "tomatoes_genres"
   ]
  },
  {
   "cell_type": "code",
   "execution_count": null,
   "metadata": {},
   "outputs": [],
   "source": []
  }
 ],
 "metadata": {
  "kernelspec": {
   "display_name": "Python 3",
   "language": "python",
   "name": "python3"
  },
  "language_info": {
   "codemirror_mode": {
    "name": "ipython",
    "version": 3
   },
   "file_extension": ".py",
   "mimetype": "text/x-python",
   "name": "python",
   "nbconvert_exporter": "python",
   "pygments_lexer": "ipython3",
   "version": "3.8.5"
  }
 },
 "nbformat": 4,
 "nbformat_minor": 4
}
